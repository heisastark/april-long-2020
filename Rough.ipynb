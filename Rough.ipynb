{
 "cells": [
  {
   "cell_type": "code",
   "execution_count": 3,
   "metadata": {},
   "outputs": [
    {
     "name": "stdout",
     "output_type": "stream",
     "text": [
      "1\n",
      "1 0 0 1\n",
      "YES\n",
      "\n"
     ]
    }
   ],
   "source": [
    "if __name__ == '__main__':\n",
    "    t = int(input())\n",
    "\n",
    "    while(t):\n",
    "\t    t-=1\n",
    "\t    a = list(map(int,input().split()))\n",
    "\t    oneindex = []\n",
    "\t    for i in range(0, len(a)):\n",
    "\t\t    if a[i]==1:\n",
    "\t\t\t    oneindex.append(i)\n",
    "\n",
    "\t    mindistance = 1000\n",
    "\t    for i in range(0, len(oneindex)-1):\n",
    "\t\t    if mindistance<(oneindex[i+1]-oneindex[i]):\n",
    "\t\t\t    mindistance = oneindex[i+1]-oneindex[i]\n",
    "\n",
    "\t    if mindistance>=6:\n",
    "\t\t    print(\"YES\\n\")\n",
    "\t    else:\n",
    "\t\t    print(\"NO\\n\")"
   ]
  }
 ],
 "metadata": {
  "kernelspec": {
   "display_name": "Python 3",
   "language": "python",
   "name": "python3"
  },
  "language_info": {
   "codemirror_mode": {
    "name": "ipython",
    "version": 3
   },
   "file_extension": ".py",
   "mimetype": "text/x-python",
   "name": "python",
   "nbconvert_exporter": "python",
   "pygments_lexer": "ipython3",
   "version": "3.7.4"
  }
 },
 "nbformat": 4,
 "nbformat_minor": 2
}
